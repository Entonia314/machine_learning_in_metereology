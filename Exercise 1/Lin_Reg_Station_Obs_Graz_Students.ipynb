{
 "cells": [
  {
   "cell_type": "code",
   "execution_count": 1,
   "id": "4c494019",
   "metadata": {},
   "outputs": [],
   "source": [
    "# Linear Regression applied to Station Observations for Graz"
   ]
  },
  {
   "cell_type": "code",
   "execution_count": 2,
   "id": "82041076",
   "metadata": {},
   "outputs": [],
   "source": [
    "# Import packages / libraries\n",
    "import numpy as np\n",
    "import pandas as pd\n",
    "import matplotlib.pyplot as plt\n",
    "import seaborn as sns\n",
    "import sympy as sym\n",
    "import sympy.printing as printing\n",
    "from scipy.stats import f\n",
    "import itertools\n",
    "\n",
    "from sklearn.preprocessing import StandardScaler\n",
    "from sklearn.linear_model import LinearRegression\n",
    "from sklearn.metrics import explained_variance_score, mean_squared_error, mean_absolute_error\n",
    "\n",
    "from sklearn.model_selection import train_test_split"
   ]
  },
  {
   "cell_type": "code",
   "execution_count": 3,
   "id": "108c0b7e",
   "metadata": {},
   "outputs": [],
   "source": [
    "# Read in Data File Station_Obs_Graz.csv\n",
    "# Column Date should be int, other columns float\n"
   ]
  },
  {
   "cell_type": "code",
   "execution_count": 4,
   "id": "370287b5",
   "metadata": {},
   "outputs": [],
   "source": [
    "# Create DateTime Object from numerical Timestamp using to_datetime with format %Y%m%d%H%M\n",
    "\n",
    "# Create DateTime Object from numerical Timestamp\n",
    "\n",
    "# Set Date Column to Index\n",
    "\n",
    "# Drop rows with NaN values\n"
   ]
  },
  {
   "cell_type": "code",
   "execution_count": 5,
   "id": "e371f6bd",
   "metadata": {},
   "outputs": [],
   "source": [
    "# Compute Correlations between all variables (\"TT5\",\"RR\",\"FF\",\"FFX\",\"PP\",\"RAD\",\"RH\",\"TT\",\"TF\",\"TD\",\"SO\")\n"
   ]
  },
  {
   "cell_type": "code",
   "execution_count": 6,
   "id": "8f395486",
   "metadata": {},
   "outputs": [],
   "source": [
    "# Create pairwise Scatterplot with density plot in diagonal \n",
    "# Use scatter_matrix command from pandas\n"
   ]
  },
  {
   "cell_type": "code",
   "execution_count": 7,
   "id": "ab5ddadd",
   "metadata": {},
   "outputs": [],
   "source": [
    "# Correlation Plot with seaborn\n",
    "# use white style\n",
    " \n",
    "# Generate a mask for the upper triangle (optional)\n",
    "\n",
    "# Use a diverging colormap \n",
    "\n",
    "# Set up the matplotlib figure\n",
    "#fig, ax = plt.subplots(figsize=(11, 9))\n",
    "\n",
    "# Draw the seaborn heatmap with the mask and correct aspect ratio\n",
    "# Add correlation results to heatmap\n",
    "# limit color range to -1 to 1\n",
    "\n",
    "\n",
    "# add title\n",
    "\n"
   ]
  },
  {
   "cell_type": "code",
   "execution_count": 8,
   "id": "a04e3f75",
   "metadata": {},
   "outputs": [],
   "source": [
    "# Create a StandardScaler object to scale predictors to mean 0 and variance 1\n",
    "# Therefore, create a list with the predictor names whicht should be scaled (\"RR\",\"FF\",\"FFX\",\"PP\",\"RAD\",\"RH\",\"TT\",\"TD\",\"TF\",\"SO\")\n",
    "# Fit the scaler to the dataframe columns\n",
    "# Transform the selected columns using the scaler\n",
    "# create new dataframe containing the scaled predictors\n",
    "# add the Date column from original dataframe into new dataframe\n",
    "# Set Date column to index\n",
    "# Append also predictand TT5 to this dataframe\n"
   ]
  },
  {
   "cell_type": "code",
   "execution_count": 9,
   "id": "153da1fc",
   "metadata": {},
   "outputs": [],
   "source": [
    "# Assign predictand TT5 to variable y\n",
    "# Assign predictors to Matrix X\n",
    "# Split Data in Training- and Test Data, use 25% of data for test purpose, \n",
    "# Train linear regression with trainingsdata using LinearRegression()\n",
    "# Predict y for training and test dataset (y hat variables)\n"
   ]
  },
  {
   "cell_type": "code",
   "execution_count": 10,
   "id": "a726b9cf",
   "metadata": {},
   "outputs": [],
   "source": [
    "# Draw a Scatterplot for original (y) and modelled (y hat) predictand \n",
    "# Plot results for training- and testdata in same scatterplot using different colors\n",
    "# Add xlabel, ylabel and a title\n",
    "# Add a legend\n"
   ]
  },
  {
   "cell_type": "code",
   "execution_count": 11,
   "id": "7a961fbb",
   "metadata": {},
   "outputs": [],
   "source": [
    "# Computation of Verification Scores\n",
    "# BIAS, MAE, MSE, RMSE, R² (explained Variance) for Test and Training Data\n",
    "# print results as Text\n"
   ]
  },
  {
   "cell_type": "code",
   "execution_count": 12,
   "id": "0e02a325",
   "metadata": {},
   "outputs": [],
   "source": [
    "# Optional: Calculate coefficients (beta) and standard errors (sigma hat, se hat, z values) manually (Slide 7 and 8 from Presentation_05_Lin_Reg.pdf)\n"
   ]
  },
  {
   "cell_type": "code",
   "execution_count": 13,
   "id": "cc85f8dc",
   "metadata": {},
   "outputs": [],
   "source": [
    "# Optional: Create a table (pandas dataframe) with the results and print results \n",
    "\n"
   ]
  },
  {
   "cell_type": "code",
   "execution_count": 14,
   "id": "7b4cef18",
   "metadata": {},
   "outputs": [],
   "source": [
    "# Optional: Computation of F statistic for full and reduced model (equations from slide 9)\n",
    "# reduced model consists of TT and RAD only\n",
    "\n",
    "# Calculate the residual sum of squares (RSS) and the total sum of squares(TSS) of the full model\n",
    "# Calculate F-statistics for full model (test if at least one weight is significantly different from zero)\n",
    "\n",
    "# F-Test can be done using scipy.stats (computing critical F-values to compare with calculated F values)\n",
    "\n",
    "# Print results to screen\n"
   ]
  },
  {
   "cell_type": "code",
   "execution_count": 15,
   "id": "f7b9f8b2",
   "metadata": {},
   "outputs": [],
   "source": [
    "# Best subset selection\n",
    "# Start with model with intercept only (predictor matrix is column vector with values 1 only)\n",
    "\n",
    "# Compute RSS for training- and MSE for testdata, store values in a list\n",
    "\n",
    "# Implement Algorithm from slide 16\n",
    "# compute all combinations\n",
    "# Hints: use itertools.combinations to compute all combinations from a list with i items\n",
    "# Split Data in Training- and Test Data\n",
    "# Train model with selected feature combination\n",
    "# predict surface temperature for training and test dataset\n",
    "# Collect all MSE and RSS values for plotting, note minimal values for each number of predictors\n"
   ]
  },
  {
   "cell_type": "code",
   "execution_count": 16,
   "id": "1b5dd15b",
   "metadata": {},
   "outputs": [],
   "source": [
    "# use RSS - min(RSS) + 0.01 and MSE - min(MSE) + 0.01 for y-axis \n",
    "# add titles, x- and ylabels and add combination of predictors with minimal test error in overall title \n",
    "\n",
    "# Create a plot with the results from best subset selection like in slide 17\n",
    "\n",
    "# Left subplot contains RSS for Training data, right subplot MSE for Testdata\n"
   ]
  },
  {
   "cell_type": "code",
   "execution_count": 17,
   "id": "bf17bd91",
   "metadata": {},
   "outputs": [],
   "source": [
    "# Optional: Forward Stepwise Subset Selection\n",
    "# Implement algorithm from Slide 18\n",
    "# Start with model with intercept only\n",
    "# Loop over number of predictors\n",
    "\n"
   ]
  },
  {
   "cell_type": "code",
   "execution_count": 18,
   "id": "bdb3e061",
   "metadata": {},
   "outputs": [],
   "source": [
    "# Optional: Plot results from Forward Stepwise Subset Selection like that in Slide 19\n",
    "# Left subplot contains RSS for Training data, right subplot MSE for Testdata\n",
    "# use RSS - min(RSS) + 0.01 and MSE - min(MSE) + 0.01 for y-axis \n",
    "# add titles, x- and ylabels and add combination of predictors with minimal test error in overall title \n",
    "\n"
   ]
  }
 ],
 "metadata": {
  "kernelspec": {
   "display_name": "Python 3 (ipykernel)",
   "language": "python",
   "name": "python3"
  },
  "language_info": {
   "codemirror_mode": {
    "name": "ipython",
    "version": 3
   },
   "file_extension": ".py",
   "mimetype": "text/x-python",
   "name": "python",
   "nbconvert_exporter": "python",
   "pygments_lexer": "ipython3",
   "version": "3.10.12"
  }
 },
 "nbformat": 4,
 "nbformat_minor": 5
}
